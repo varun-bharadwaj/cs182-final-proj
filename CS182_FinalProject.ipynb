{
  "cells": [
    {
      "cell_type": "markdown",
      "metadata": {
        "id": "view-in-github",
        "colab_type": "text"
      },
      "source": [
        "<a href=\"https://colab.research.google.com/github/varun-bharadwaj/cs182-final-proj/blob/main/CS182_FinalProject.ipynb\" target=\"_parent\"><img src=\"https://colab.research.google.com/assets/colab-badge.svg\" alt=\"Open In Colab\"/></a>"
      ]
    },
    {
      "cell_type": "code",
      "execution_count": 1,
      "metadata": {
        "id": "gqG6Ag0T3clW"
      },
      "outputs": [],
      "source": [
        "# Imports:\n",
        "import numpy as np\n",
        "import torch\n",
        "import torch.nn as nn\n",
        "import torch.optim as optim\n",
        "import random\n",
        "from tqdm import tqdm\n",
        "import math\n",
        "import matplotlib.pyplot as plt\n",
        "import random"
      ]
    },
    {
      "cell_type": "markdown",
      "metadata": {
        "id": "fdtmH3CakhN7"
      },
      "source": [
        "1. Training Data Generation"
      ]
    },
    {
      "cell_type": "code",
      "execution_count": 2,
      "metadata": {
        "id": "5q8O21Wyun5r"
      },
      "outputs": [],
      "source": [
        "# Assumptions / constants (inputs)\n",
        "NUM_VERTICES = 3\n",
        "WEIGHT_MEAN = 9.0\n",
        "WEIGHT_STD = 5.0\n",
        "SOURCE_NODE_INDEX = 0 # Can also make random\n",
        "\n",
        "# Output: Adjacency matrix for the graph, and one hot encoded vectors for the source and sink node"
      ]
    },
    {
      "cell_type": "code",
      "execution_count": 16,
      "metadata": {
        "id": "2YfhCBUbuuZz"
      },
      "outputs": [],
      "source": [
        "### EDGE WEIGHT GENERATORS ###\n",
        "\n",
        "def gaussian_edge_weight(edge_weight_mean = WEIGHT_MEAN,\n",
        "                         edge_weight_stddev = WEIGHT_STD,\n",
        "                         no_edge_prob = 0.0,\n",
        "                         whole_num_only = True):\n",
        "  \"\"\"\n",
        "  Generates a single edge weight that follows a normal distribution with the given parameters but negative weights are clipped to 0.\n",
        "  There is a no_edge_prob that the weight will instead get set to np.inf (to simulate that edge not existing in the graph)\n",
        "  \"\"\"\n",
        "  if random.random() < no_edge_prob:\n",
        "    return 100\n",
        "  else:\n",
        "    weight = max(0, np.random.normal(edge_weight_mean, edge_weight_stddev))\n",
        "    if whole_num_only: return np.floor(weight)\n",
        "    else: return weight\n",
        "\n",
        "def uniform_edge_weight(edge_weight_min = 0.0,\n",
        "                        edge_weight_max = 10.0,\n",
        "                        no_edge_prob = 0.0,\n",
        "                        whole_num_only = True):\n",
        "  \"\"\"\n",
        "  Generates a single edge weight that follows a uniform distribution with the given parameters.\n",
        "  There is a no_edge_prob that the weight will instead get set to np.inf (to simulate that edge not existing in the graph)\n",
        "  \"\"\"\n",
        "  if random.random() < no_edge_prob:\n",
        "    return 10_000\n",
        "  else:\n",
        "    weight = np.random.uniform(edge_weight_min, edge_weight_max)\n",
        "    if whole_num_only: return np.floor(weight)\n",
        "    else: return weight\n",
        "\n",
        "def large_gaussian_edge_weight(edge_weight_mean = 3 * WEIGHT_MEAN,\n",
        "                         edge_weight_stddev = 3 * WEIGHT_STD,\n",
        "                         no_edge_prob = 0.0,\n",
        "                         whole_num_only = True):\n",
        "  \"\"\"\n",
        "  Generates a single edge weight that follows a normal distribution with the given parameters but negative weights are clipped to 0.\n",
        "  There is a no_edge_prob that the weight will instead get set to np.inf (to simulate that edge not existing in the graph)\n",
        "  \"\"\"\n",
        "  if random.random() < no_edge_prob:\n",
        "    return 100\n",
        "  else:\n",
        "    weight = max(0, np.random.normal(edge_weight_mean, edge_weight_stddev))\n",
        "    if whole_num_only: return np.floor(weight)\n",
        "    else: return weight\n",
        "\n",
        "def no_edge_generator(edge_weight_mean = WEIGHT_MEAN,\n",
        "                         edge_weight_stddev = WEIGHT_STD,\n",
        "                         no_edge_prob = 0.1,\n",
        "                         whole_num_only = True):\n",
        "  \"\"\"\n",
        "  Generates a single edge weight that follows a normal distribution with the given parameters but negative weights are clipped to 0.\n",
        "  There is a no_edge_prob that the weight will instead get set to np.inf (to simulate that edge not existing in the graph)\n",
        "  \"\"\"\n",
        "  if random.random() < no_edge_prob:\n",
        "    return 100\n",
        "  else:\n",
        "    weight = max(0, np.random.normal(edge_weight_mean, edge_weight_stddev))\n",
        "    if whole_num_only: return np.floor(weight)\n",
        "    else: return weight\n",
        "### END EDGE WEIGHT GENERATORS ###"
      ]
    },
    {
      "cell_type": "code",
      "execution_count": 4,
      "metadata": {
        "id": "jOp-0-syyWjf"
      },
      "outputs": [],
      "source": [
        "def generate_shortest_path_problem(num_vertices,\n",
        "                                   source_index = SOURCE_NODE_INDEX,\n",
        "                                   edge_weight_generator = gaussian_edge_weight,\n",
        "                                   undirected = True):\n",
        "  \"\"\"\n",
        "  Generates a single shortest path problem with the specified number of vertices.\n",
        "  Edge weights are generated by edge_weight_generator (passed in function).\n",
        "\n",
        "  Output format:\n",
        "    - A, an (n+1) x n numpy matrix.\n",
        "    - The first row is a one hot encoded vector of the source node. (A[0][i] == 1 if i is the source node else 0)\n",
        "    - Each subsequent row is a row of the adjacency matrix.\n",
        "    - So A[i+1][j] represents the cost of the edge from i -> j. Therefore it is a constant that A[i+1][i] = 0 for all i.\n",
        "    - If undirected is True, then A[i+1][j] = A[j+1][i] for all i, j. Otherwise, they can be different\n",
        "  \"\"\"\n",
        "\n",
        "  # Generate random graph:\n",
        "  A = np.zeros((num_vertices + 1, num_vertices))\n",
        "  A[0][source_index] = 1\n",
        "  if undirected:\n",
        "    for i in range(num_vertices):\n",
        "      for j in range(i+1, num_vertices):\n",
        "          A[i+1][j] = edge_weight_generator()\n",
        "          A[j+1][i] = A[i+1][j]\n",
        "  else:\n",
        "    for i in range(num_vertices):\n",
        "      for j in range(num_vertices):\n",
        "        if i != j:\n",
        "          A[i+1][j] = edge_weight_generator()\n",
        "\n",
        "  return A\n",
        "\n",
        "\n",
        "def solve_shortest_path_problem(A):\n",
        "  \"\"\"\n",
        "  Solves a shortest path problem that is in the format outputted by generate_shortest_path_problem.\n",
        "\n",
        "  Output format:\n",
        "    - S, a numpy array of length n. Each element is the length of the shortest path from the source node to that vertex.\n",
        "    - So S[i] = len of shortest path from source_index -> i. Therefore it is a constant that S[source_index] = 0.\n",
        "  \"\"\"\n",
        "\n",
        "  n = A.shape[1]\n",
        "  source_index = np.nonzero(A[0])[0][0]\n",
        "\n",
        "  # Solve graph with bellman ford (so we can add negative edges if desired):\n",
        "  S = np.full(n, np.inf)\n",
        "  S[source_index] = 0\n",
        "  for _ in range(n):\n",
        "    for i in range(n):\n",
        "      for j in range(n):\n",
        "        if S[i] + A[i+1][j] < S[j]:\n",
        "          S[j] = S[i] + A[i+1][j]\n",
        "\n",
        "  # Return\n",
        "  return S\n"
      ]
    },
    {
      "cell_type": "code",
      "source": [
        "def generate_interesting_problem(num_vertices,\n",
        "                                 source_index = SOURCE_NODE_INDEX,\n",
        "                                 undirected = True):\n",
        "\n",
        "  \"\"\"\n",
        "  Generates a single shortest path problem with the specified number of vertices.\n",
        "  Edge weights are specifically generated so there is at least one shortest path that is \"long\" (>2 edges) in expectation\n",
        "  \"\"\"\n",
        "\n",
        "  A = np.zeros((num_vertices + 1, num_vertices))\n",
        "  A[0][source_index] = 1\n",
        "\n",
        "  # Assign a random sequence number to each vertex (with source_index -> 0)\n",
        "  # Then we will assign \"on path\" (seq # -> seq #+1) edges to a low weight and\n",
        "  # \"off path\" edges to a high weight with some random variance added in\n",
        "  seq_num = [i for i in range(num_vertices)]\n",
        "  random.shuffle(seq_num)\n",
        "  idx_0 = seq_num.index(0)\n",
        "  seq_num[source_index], seq_num[idx_0] = 0, seq_num[source_index]\n",
        "\n",
        "  if undirected:\n",
        "    for i in range(num_vertices):\n",
        "      for j in range(i+1, num_vertices):\n",
        "          diff = abs(seq_num[i] - seq_num[j])\n",
        "          if diff == 1: # on path edge\n",
        "            A[i+1][j] = random.randint(1, 3)\n",
        "            A[j+1][i] = A[i+1][j]\n",
        "          else: # off path edge\n",
        "            A[i+1][j] = random.randint(5 + diff, 8 + diff) # longer \"skips\" have higher val in expectation\n",
        "            A[j+1][i] = A[i+1][j]\n",
        "  else:\n",
        "    for i in range(num_vertices):\n",
        "      for j in range(num_vertices):\n",
        "        if i != j:\n",
        "          diff = abs(seq_num[i] - seq_num[j])\n",
        "          if diff == 1: # on path edge\n",
        "            A[i+1][j] = random.randint(1, 3)\n",
        "          else: # off path edge\n",
        "            A[i+1][j] = random.randint(5 + diff, 8 + diff) # longer \"skips\" have higher val in expectation\n",
        "\n",
        "  return A\n",
        "\n",
        "\n"
      ],
      "metadata": {
        "id": "g_4aWJSQ2JgZ"
      },
      "execution_count": 5,
      "outputs": []
    },
    {
      "cell_type": "code",
      "execution_count": 6,
      "metadata": {
        "colab": {
          "base_uri": "https://localhost:8080/"
        },
        "id": "Mlh-Zn-VycGS",
        "outputId": "8a14573b-c0cb-421c-a042-efb114223ddc"
      },
      "outputs": [
        {
          "output_type": "stream",
          "name": "stdout",
          "text": [
            "[[ 0.  0.  1.]\n",
            " [ 0. 10.  5.]\n",
            " [10.  0. 12.]\n",
            " [ 5. 12.  0.]]\n",
            "[ 5. 12.  0.]\n"
          ]
        }
      ],
      "source": [
        "# TESTING CODE\n",
        "A = generate_shortest_path_problem(NUM_VERTICES, edge_weight_generator=gaussian_edge_weight, source_index=random.randint(0, NUM_VERTICES - 1))\n",
        "print(A)\n",
        "S = solve_shortest_path_problem(A)\n",
        "print(S)"
      ]
    },
    {
      "cell_type": "code",
      "execution_count": 7,
      "metadata": {
        "id": "STWumRZyuysS"
      },
      "outputs": [],
      "source": [
        "def generate_batch(batch_size,\n",
        "                   num_vertices = NUM_VERTICES,\n",
        "                   source_index = SOURCE_NODE_INDEX,\n",
        "                   edge_weight_generator = gaussian_edge_weight,\n",
        "                   undirected = True):\n",
        "  \"\"\"\n",
        "  Generates a batch of shortest path problems. Outputs two np tensors, A_batch and S_batch\n",
        "\n",
        "  All problems in the batch have to have the same \"format\" (num_vertices, source_index, edge_weight_generator, undirected)\n",
        "\n",
        "  A_batch: np array of shape (batch_size, num_vertices + 1, num_vertices)\n",
        "  S_batch: np array of shape (batch_size, num_vertices)\n",
        "  \"\"\"\n",
        "\n",
        "  A_list = []\n",
        "  S_list = []\n",
        "  while len(A_list) < batch_size:\n",
        "    A = generate_shortest_path_problem(num_vertices, source_index, edge_weight_generator, undirected)\n",
        "    S = solve_shortest_path_problem(A)\n",
        "    if np.sum(S) < 100:\n",
        "      A_list.append(A)\n",
        "      S_list.append(S)\n",
        "\n",
        "  A_batch = np.stack(A_list, axis=0)\n",
        "  S_batch = np.stack(S_list, axis=0)\n",
        "\n",
        "  return A_batch, S_batch\n",
        "\n",
        "\n",
        "\n",
        "def generate_interesting_batch(batch_size,\n",
        "                   num_vertices = NUM_VERTICES,\n",
        "                   source_index = SOURCE_NODE_INDEX,\n",
        "                   edge_weight_generator = gaussian_edge_weight,\n",
        "                   undirected = True):\n",
        "  \"\"\"\n",
        "  Generates a batch of shortest path problems. Outputs two np tensors, A_batch and S_batch\n",
        "\n",
        "  All problems in the batch have to have the same \"format\" (num_vertices, source_index, edge_weight_generator, undirected)\n",
        "\n",
        "  A_batch: np array of shape (batch_size, num_vertices + 1, num_vertices)\n",
        "  S_batch: np array of shape (batch_size, num_vertices)\n",
        "  \"\"\"\n",
        "\n",
        "  A_list = []\n",
        "  S_list = []\n",
        "  while len(A_list) < batch_size:\n",
        "    A = generate_interesting_problem(num_vertices, source_index, undirected)\n",
        "    S = solve_shortest_path_problem(A)\n",
        "    if np.sum(S) < 100:\n",
        "      A_list.append(A)\n",
        "      S_list.append(S)\n",
        "\n",
        "\n",
        "  A_batch = np.stack(A_list, axis=0)\n",
        "  S_batch = np.stack(S_list, axis=0)\n",
        "\n",
        "  return A_batch, S_batch"
      ]
    },
    {
      "cell_type": "markdown",
      "metadata": {
        "id": "CaRbeQOru0QG"
      },
      "source": [
        "2. Transformer Architecture Setup"
      ]
    },
    {
      "cell_type": "code",
      "execution_count": 8,
      "metadata": {
        "id": "BySsEn72znxE"
      },
      "outputs": [],
      "source": [
        "# 2. Transformer Architecture Setup][-olk,m ]\n",
        "# Input: Graph as an adjacency matrix inputted as vectors with one hot encoding vectors added for the source and sink node\n",
        "# --> Tokens are the vectors in adjacency matrix, one for each vertex\n",
        "# Output: Option 1: Real valued output for length of shortest path; Option 2: reconstructed path\n",
        "#   Option 3: Could also output a vector which for V[i] = length of shortest path to vertex i (single source shortest paths)\n",
        "#   in this case we don't need one hot encoded source/sink vectors as input\n",
        "# Loss: Opt1: Squared error; Opt2: Frobenius norm"
      ]
    },
    {
      "cell_type": "code",
      "execution_count": 9,
      "metadata": {
        "id": "_hjKrNk-lrI9"
      },
      "outputs": [],
      "source": [
        "\"\"\n",
        "class TransformerModel(nn.Module):\n",
        "    def __init__(self, input_dim, model_dim, num_heads, num_layers, output_dim, dropout=0.0):\n",
        "        super(TransformerModel, self).__init__()\n",
        "\n",
        "        self.input_proj = nn.Linear(input_dim, model_dim)  # Project input to model dimension\n",
        "        self.pos_encoder = PositionalEncoding(model_dim, dropout)\n",
        "\n",
        "        encoder_layer = nn.TransformerEncoderLayer(\n",
        "            d_model=2*model_dim,\n",
        "            nhead=num_heads,\n",
        "            dim_feedforward=8*model_dim,\n",
        "            dropout=dropout,\n",
        "            batch_first=True\n",
        "        )\n",
        "        self.transformer_encoder = nn.TransformerEncoder(encoder_layer, num_layers=num_layers)\n",
        "\n",
        "        self.output_proj = nn.Linear(2*model_dim, output_dim)\n",
        "\n",
        "    def forward(self, src):\n",
        "        # src shape: (batch_size, sequence_length, input_dim)\n",
        "        src = self.input_proj(src)\n",
        "        src = self.pos_encoder(src)\n",
        "        x = self.transformer_encoder(src)\n",
        "        output = self.output_proj(x)\n",
        "        return output\n",
        "\n",
        "\n",
        "class PositionalEncoding(nn.Module):\n",
        "    def __init__(self, model_dim, dropout=0.0, max_len=500):\n",
        "        super().__init__()\n",
        "        self.dropout = nn.Dropout(dropout)\n",
        "\n",
        "        pe = torch.zeros(max_len, model_dim)\n",
        "        position = torch.arange(0, max_len).unsqueeze(1).float()\n",
        "        div_term = torch.exp(torch.arange(0, model_dim, 2).float() * (-math.log(10000.0) / model_dim))\n",
        "\n",
        "        pe[:, 0::2] = torch.sin(position * div_term)\n",
        "        pe[:, 1::2] = torch.cos(position * div_term)\n",
        "\n",
        "        pe = pe.unsqueeze(0)  # shape (1, max_len, model_dim)\n",
        "        self.register_buffer('pe', pe)\n",
        "\n",
        "    def forward(self, x):\n",
        "        # x shape: (batch_size, seq_len, model_dim)\n",
        "        # x = x + self.pe[:, :x.size(1)]\n",
        "        B, S, D = x.size()\n",
        "        x = torch.cat((x, self.pe[:, :S, :].expand(B, -1, -1)), dim=-1)\n",
        "        return self.dropout(x)"
      ]
    },
    {
      "cell_type": "markdown",
      "metadata": {
        "id": "h6dy4kwM8pE2"
      },
      "source": [
        "3. Transformer Training"
      ]
    },
    {
      "cell_type": "code",
      "source": [
        "# 3. Training Time Transformer\n",
        "# Input: ___ number of randomly generated examples from the training data generation and the transformer model\n",
        "# Output: None\n",
        "\n",
        "batch_size = 64\n",
        "num_vertices = 6\n",
        "input_dim = num_vertices\n",
        "output_dim = num_vertices\n",
        "\n",
        "model_dim = 10\n",
        "num_heads = 4\n",
        "num_layers = 4\n",
        "\n",
        "num_batches = 20_000\n",
        "\n",
        "model = TransformerModel(input_dim, model_dim, num_heads, num_layers, output_dim)\n",
        "\n",
        "device = torch.device(\"cuda\" if torch.cuda.is_available() else \"cpu\")\n",
        "model.to(device)\n",
        "pass"
      ],
      "metadata": {
        "id": "GVdW7uba60jh"
      },
      "execution_count": 13,
      "outputs": []
    },
    {
      "cell_type": "code",
      "execution_count": 16,
      "metadata": {
        "colab": {
          "base_uri": "https://localhost:8080/"
        },
        "id": "SpEse4f1zrM2",
        "outputId": "5d51a473-80f6-4833-ed85-44adec68b0f7"
      },
      "outputs": [
        {
          "output_type": "stream",
          "name": "stderr",
          "text": [
            "  0%|          | 9/20000 [00:00<07:59, 41.67it/s]"
          ]
        },
        {
          "output_type": "stream",
          "name": "stdout",
          "text": [
            "Batch 1, Loss: 5.536515712738037\n"
          ]
        },
        {
          "output_type": "stream",
          "name": "stderr",
          "text": [
            "  5%|▌         | 1009/20000 [00:22<07:11, 44.02it/s]"
          ]
        },
        {
          "output_type": "stream",
          "name": "stdout",
          "text": [
            "Batch 1001, Loss: 2.9730186462402344\n"
          ]
        },
        {
          "output_type": "stream",
          "name": "stderr",
          "text": [
            " 10%|█         | 2009/20000 [00:44<06:57, 43.14it/s]"
          ]
        },
        {
          "output_type": "stream",
          "name": "stdout",
          "text": [
            "Batch 2001, Loss: 1.4838227033615112\n"
          ]
        },
        {
          "output_type": "stream",
          "name": "stderr",
          "text": [
            " 15%|█▌        | 3009/20000 [01:06<06:30, 43.55it/s]"
          ]
        },
        {
          "output_type": "stream",
          "name": "stdout",
          "text": [
            "Batch 3001, Loss: 0.8493685722351074\n"
          ]
        },
        {
          "output_type": "stream",
          "name": "stderr",
          "text": [
            " 20%|██        | 4009/20000 [01:29<06:04, 43.85it/s]"
          ]
        },
        {
          "output_type": "stream",
          "name": "stdout",
          "text": [
            "Batch 4001, Loss: 0.5289145708084106\n"
          ]
        },
        {
          "output_type": "stream",
          "name": "stderr",
          "text": [
            " 25%|██▌       | 5009/20000 [01:51<05:41, 43.91it/s]"
          ]
        },
        {
          "output_type": "stream",
          "name": "stdout",
          "text": [
            "Batch 5001, Loss: 0.4366987645626068\n"
          ]
        },
        {
          "output_type": "stream",
          "name": "stderr",
          "text": [
            " 30%|███       | 6009/20000 [02:13<05:20, 43.65it/s]"
          ]
        },
        {
          "output_type": "stream",
          "name": "stdout",
          "text": [
            "Batch 6001, Loss: 0.4719436764717102\n"
          ]
        },
        {
          "output_type": "stream",
          "name": "stderr",
          "text": [
            " 35%|███▌      | 7009/20000 [02:35<04:54, 44.13it/s]"
          ]
        },
        {
          "output_type": "stream",
          "name": "stdout",
          "text": [
            "Batch 7001, Loss: 0.43728846311569214\n"
          ]
        },
        {
          "output_type": "stream",
          "name": "stderr",
          "text": [
            " 40%|████      | 8009/20000 [02:58<04:25, 45.24it/s]"
          ]
        },
        {
          "output_type": "stream",
          "name": "stdout",
          "text": [
            "Batch 8001, Loss: 0.4335274398326874\n"
          ]
        },
        {
          "output_type": "stream",
          "name": "stderr",
          "text": [
            " 45%|████▌     | 9009/20000 [03:18<03:54, 46.86it/s]"
          ]
        },
        {
          "output_type": "stream",
          "name": "stdout",
          "text": [
            "Batch 9001, Loss: 0.20926779508590698\n"
          ]
        },
        {
          "output_type": "stream",
          "name": "stderr",
          "text": [
            " 50%|█████     | 10009/20000 [03:39<03:33, 46.85it/s]"
          ]
        },
        {
          "output_type": "stream",
          "name": "stdout",
          "text": [
            "Batch 10001, Loss: 0.22938784956932068\n"
          ]
        },
        {
          "output_type": "stream",
          "name": "stderr",
          "text": [
            " 55%|█████▌    | 11009/20000 [04:00<03:11, 46.99it/s]"
          ]
        },
        {
          "output_type": "stream",
          "name": "stdout",
          "text": [
            "Batch 11001, Loss: 0.2666619122028351\n"
          ]
        },
        {
          "output_type": "stream",
          "name": "stderr",
          "text": [
            " 60%|██████    | 12009/20000 [04:21<02:51, 46.48it/s]"
          ]
        },
        {
          "output_type": "stream",
          "name": "stdout",
          "text": [
            "Batch 12001, Loss: 0.22716490924358368\n"
          ]
        },
        {
          "output_type": "stream",
          "name": "stderr",
          "text": [
            " 65%|██████▌   | 13009/20000 [04:42<02:32, 45.81it/s]"
          ]
        },
        {
          "output_type": "stream",
          "name": "stdout",
          "text": [
            "Batch 13001, Loss: 0.15085165202617645\n"
          ]
        },
        {
          "output_type": "stream",
          "name": "stderr",
          "text": [
            " 70%|███████   | 14009/20000 [05:03<02:08, 46.52it/s]"
          ]
        },
        {
          "output_type": "stream",
          "name": "stdout",
          "text": [
            "Batch 14001, Loss: 0.22005528211593628\n"
          ]
        },
        {
          "output_type": "stream",
          "name": "stderr",
          "text": [
            " 75%|███████▌  | 15009/20000 [05:24<01:45, 47.09it/s]"
          ]
        },
        {
          "output_type": "stream",
          "name": "stdout",
          "text": [
            "Batch 15001, Loss: 0.11886119842529297\n"
          ]
        },
        {
          "output_type": "stream",
          "name": "stderr",
          "text": [
            " 80%|████████  | 16009/20000 [05:45<01:25, 46.52it/s]"
          ]
        },
        {
          "output_type": "stream",
          "name": "stdout",
          "text": [
            "Batch 16001, Loss: 0.1730954498052597\n"
          ]
        },
        {
          "output_type": "stream",
          "name": "stderr",
          "text": [
            " 85%|████████▌ | 17009/20000 [06:06<01:03, 46.87it/s]"
          ]
        },
        {
          "output_type": "stream",
          "name": "stdout",
          "text": [
            "Batch 17001, Loss: 0.1767520159482956\n"
          ]
        },
        {
          "output_type": "stream",
          "name": "stderr",
          "text": [
            " 90%|█████████ | 18009/20000 [06:26<00:42, 46.87it/s]"
          ]
        },
        {
          "output_type": "stream",
          "name": "stdout",
          "text": [
            "Batch 18001, Loss: 0.14308348298072815\n"
          ]
        },
        {
          "output_type": "stream",
          "name": "stderr",
          "text": [
            " 95%|█████████▌| 19009/20000 [06:47<00:21, 46.16it/s]"
          ]
        },
        {
          "output_type": "stream",
          "name": "stdout",
          "text": [
            "Batch 19001, Loss: 0.11049646139144897\n"
          ]
        },
        {
          "output_type": "stream",
          "name": "stderr",
          "text": [
            "100%|██████████| 20000/20000 [07:08<00:00, 46.68it/s]\n"
          ]
        }
      ],
      "source": [
        "optimizer = torch.optim.Adam(model.parameters(), lr=1e-3)\n",
        "loss_fn = nn.SmoothL1Loss(beta=0.35)\n",
        "percentage_non_interesting = 0.40\n",
        "losses = [] # loss per batch\n",
        "model.train()\n",
        "for i in tqdm(range(num_batches) + 1):\n",
        "  if i > num_batches * percentage_non_interesting:\n",
        "    x_batch, y_batch = generate_interesting_batch(batch_size, source_index=random.randint(0, num_vertices - 1) , num_vertices=num_vertices, edge_weight_generator=gaussian_edge_weight)\n",
        "  else:\n",
        "    x_batch, y_batch = generate_batch(batch_size, source_index=random.randint(0, num_vertices - 1), num_vertices=num_vertices, edge_weight_generator=gaussian_edge_weight)\n",
        "  x_batch = torch.tensor(x_batch, dtype=torch.float32).to(device)\n",
        "  y_batch = torch.tensor(y_batch, dtype=torch.float32).to(device)\n",
        "\n",
        "  optimizer.zero_grad()\n",
        "  output = model(x_batch)\n",
        "  pred_distances = output[:, -1, :]\n",
        "  loss = loss_fn(pred_distances, y_batch)\n",
        "  loss.backward()\n",
        "  optimizer.step()\n",
        "\n",
        "  losses.append(loss.item())\n",
        "  if i % 1000 == 0:\n",
        "    print(f\"Batch {i+1}, Loss: {loss.item()}\")\n",
        "\n",
        "    torch.save({\n",
        "        'epoch': i // 1000,\n",
        "        'model_state_dict': model.state_dict(),\n",
        "        'optimizer_state_dict': optimizer.state_dict(),\n",
        "        'loss': loss,\n",
        "    }, f'iter_{i}.pth')\n"
      ]
    },
    {
      "cell_type": "code",
      "source": [
        "plt.xlabel(\"Training Iteration\")\n",
        "plt.ylabel(\"SmoothL1Loss\")\n",
        "plt.title(\"Transformer Loss Curve\")\n",
        "plt.plot(range(len(losses)), losses)"
      ],
      "metadata": {
        "colab": {
          "base_uri": "https://localhost:8080/",
          "height": 489
        },
        "id": "4d9_e2KDCKS3",
        "outputId": "454cf5d9-53fd-43ca-ffc4-1d45596c19b6"
      },
      "execution_count": 19,
      "outputs": [
        {
          "output_type": "execute_result",
          "data": {
            "text/plain": [
              "[<matplotlib.lines.Line2D at 0x7e04981f1cd0>]"
            ]
          },
          "metadata": {},
          "execution_count": 19
        },
        {
          "output_type": "display_data",
          "data": {
            "text/plain": [
              "<Figure size 640x480 with 1 Axes>"
            ],
            "image/png": "[encoded data removed]"
          },
          "metadata": {}
        }
      ]
    },
    {
      "cell_type": "code",
      "source": [
        "# load model\n",
        "model = TransformerModel(input_dim, model_dim, num_heads, num_layers, output_dim)\n",
        "model.load_state_dict(torch.load(\"iter_19999.pth\")['model_state_dict'])\n",
        "model.to(device)\n",
        "pass"
      ],
      "metadata": {
        "id": "EktFH07g6T05"
      },
      "execution_count": 19,
      "outputs": []
    },
    {
      "cell_type": "markdown",
      "metadata": {
        "id": "uXPY_6hO8roH"
      },
      "source": [
        "4. Transformer Testing"
      ]
    },
    {
      "cell_type": "code",
      "execution_count": 21,
      "metadata": {
        "colab": {
          "base_uri": "https://localhost:8080/"
        },
        "id": "m5EuTduxzvEi",
        "outputId": "97b1e50d-81a6-40a5-c4db-a844dadf03d1"
      },
      "outputs": [
        {
          "output_type": "stream",
          "name": "stdout",
          "text": [
            "normal loss: 1.1513962\n",
            "interesting loss: 0.19277486\n",
            "randomized loss: 0.16482419\n"
          ]
        }
      ],
      "source": [
        "# 4. Test Time Transformer\n",
        "# Input: Newly generated random examples, can experiment with different number of vertices to check ICL capability\n",
        "# Output: Accuracy measurements (figure out what these should be)\n",
        "\n",
        "model.eval()\n",
        "\n",
        "eval_criterion = torch.nn.functional.l1_loss\n",
        "\n",
        "# normal batch\n",
        "x_batch, y_batch = generate_batch(32, source_index = 0, num_vertices=num_vertices, edge_weight_generator=gaussian_edge_weight)\n",
        "\n",
        "x_batch = torch.tensor(x_batch, dtype=torch.float32).to(device)\n",
        "y_batch = torch.tensor(y_batch, dtype=torch.float32).to(device)\n",
        "\n",
        "output = model(x_batch)\n",
        "pred_distances = output[:, -1, :]\n",
        "\n",
        "normal_batch_loss = eval_criterion(y_batch, pred_distances).detach().cpu().numpy()\n",
        "\n",
        "# interesting batch\n",
        "x_batch, y_batch = generate_interesting_batch(32, source_index = 0, num_vertices=num_vertices, edge_weight_generator=gaussian_edge_weight)\n",
        "\n",
        "x_batch = torch.tensor(x_batch, dtype=torch.float32).to(device)\n",
        "y_batch = torch.tensor(y_batch, dtype=torch.float32).to(device)\n",
        "\n",
        "output = model(x_batch)\n",
        "pred_distances = output[:, -1, :]\n",
        "\n",
        "interesting_batch_loss = eval_criterion(y_batch, pred_distances).detach().cpu().numpy()\n",
        "\n",
        "\n",
        "#randomized source vertex\n",
        "x_batch, y_batch = generate_interesting_batch(32, source_index = random.randint(0, num_vertices-1) , num_vertices=num_vertices, edge_weight_generator=gaussian_edge_weight)\n",
        "\n",
        "x_batch = torch.tensor(x_batch, dtype=torch.float32).to(device)\n",
        "y_batch = torch.tensor(y_batch, dtype=torch.float32).to(device)\n",
        "\n",
        "output = model(x_batch)\n",
        "pred_distances = output[:, -1, :]\n",
        "\n",
        "randomized_batch_loss = eval_criterion(y_batch, pred_distances).detach().cpu().numpy()\n",
        "\n",
        "\n",
        "print(\"normal loss:\", normal_batch_loss)\n",
        "print(\"interesting loss:\", interesting_batch_loss)\n",
        "print(\"randomized loss:\", randomized_batch_loss)"
      ]
    },
    {
      "cell_type": "code",
      "source": [
        "# out of distribution testing\n",
        "\n",
        "#uniform edge weight\n",
        "x_batch, y_batch = generate_batch(32, source_index = random.randint(0, num_vertices-1) , num_vertices=num_vertices, edge_weight_generator=uniform_edge_weight)\n",
        "\n",
        "x_batch = torch.tensor(x_batch, dtype=torch.float32).to(device)\n",
        "y_batch = torch.tensor(y_batch, dtype=torch.float32).to(device)\n",
        "\n",
        "output = model(x_batch)\n",
        "pred_distances = output[:, -1, :]\n",
        "\n",
        "uniform_batch_loss = eval_criterion(y_batch, pred_distances).detach().cpu().numpy()\n",
        "\n",
        "#larger gaussian edge weight\n",
        "x_batch, y_batch = generate_batch(32, source_index = random.randint(0, num_vertices-1) , num_vertices=num_vertices, edge_weight_generator=large_gaussian_edge_weight)\n",
        "\n",
        "x_batch = torch.tensor(x_batch, dtype=torch.float32).to(device)\n",
        "y_batch = torch.tensor(y_batch, dtype=torch.float32).to(device)\n",
        "\n",
        "output = model(x_batch)\n",
        "pred_distances = output[:, -1, :]\n",
        "\n",
        "large_gaussian_loss = eval_criterion(y_batch, pred_distances).detach().cpu().numpy()\n",
        "\n",
        "#no edge weight\n",
        "x_batch, y_batch = generate_batch(32, source_index = random.randint(0, num_vertices-1) , num_vertices=num_vertices, edge_weight_generator=no_edge_generator)\n",
        "\n",
        "x_batch = torch.tensor(x_batch, dtype=torch.float32).to(device)\n",
        "y_batch = torch.tensor(y_batch, dtype=torch.float32).to(device)\n",
        "\n",
        "output = model(x_batch)\n",
        "pred_distances = output[:, -1, :]\n",
        "\n",
        "no_edge_loss = eval_criterion(y_batch, pred_distances).detach().cpu().numpy()\n",
        "\n",
        "print(\"uniform loss:\", uniform_batch_loss)\n",
        "print(\"larger gaussian loss:\", large_gaussian_loss)\n",
        "print(\"no edge loss:\", no_edge_loss)"
      ],
      "metadata": {
        "colab": {
          "base_uri": "https://localhost:8080/"
        },
        "id": "4_P5kb4S7NXT",
        "outputId": "fad44a87-47dc-4c7a-da84-b55a0c876f16"
      },
      "execution_count": 30,
      "outputs": [
        {
          "output_type": "stream",
          "name": "stdout",
          "text": [
            "uniform loss: 0.73384607\n",
            "larger gaussian loss: 7.8610334\n",
            "no edge loss: 3.594712\n"
          ]
        }
      ]
    },
    {
      "cell_type": "code",
      "source": [
        "model.eval()\n",
        "x_batch, y_batch = generate_batch(1, source_index = random.randint(0, num_vertices-1) , num_vertices=num_vertices, edge_weight_generator=large_gaussian_edge_weight)\n",
        "\n",
        "x_batch = torch.tensor(x_batch, dtype=torch.float32).to(device)\n",
        "y_batch = torch.tensor(y_batch, dtype=torch.float32).to(device)\n",
        "torch.set_printoptions(sci_mode=False, precision=1)\n",
        "output = model(x_batch)\n",
        "pred_distances = output[:, -1, :]\n",
        "\n",
        "print(pred_distances)\n",
        "print(y_batch)"
      ],
      "metadata": {
        "id": "cQ6tTeN2QC0a",
        "colab": {
          "base_uri": "https://localhost:8080/"
        },
        "outputId": "5285eb06-f6ab-40c0-bf7f-c92e64a26063"
      },
      "execution_count": 28,
      "outputs": [
        {
          "output_type": "stream",
          "name": "stdout",
          "text": [
            "tensor([[ 2.3, 14.8, 14.4,  2.3,  8.3,  5.2]], device='cuda:0',\n",
            "       grad_fn=<SliceBackward0>)\n",
            "tensor([[ 0., 15., 11.,  0., 14.,  9.]], device='cuda:0')\n"
          ]
        }
      ]
    },
    {
      "cell_type": "code",
      "source": [
        "import networkx as nx\n",
        "import matplotlib.pyplot as plt\n",
        "# Example weight matrix (symmetric for undirected graph, 0 means no edge)\n",
        "weight_matrix = x_batch.squeeze(0)[1:, :].detach().cpu().numpy()\n",
        "# Create a graph\n",
        "G = nx.Graph()\n",
        "# Add edges with weights\n",
        "n = len(weight_matrix)\n",
        "for i in range(n):\n",
        "    for j in range(i+1, n):\n",
        "        weight = weight_matrix[i][j]\n",
        "        G.add_edge(i, j, weight=weight)\n",
        "# Position the nodes using a layout\n",
        "pos = nx.spring_layout(G)\n",
        "# Draw nodes and edges\n",
        "nx.draw(G, pos, with_labels=True, node_color='lightblue', node_size=500, font_weight='bold')\n",
        "# Draw edge labels (weights)\n",
        "edge_labels = nx.get_edge_attributes(G, 'weight')\n",
        "nx.draw_networkx_edge_labels(G, pos, edge_labels=edge_labels)\n",
        "plt.show()"
      ],
      "metadata": {
        "colab": {
          "base_uri": "https://localhost:8080/",
          "height": 516
        },
        "id": "IHoO5YmA_U5F",
        "outputId": "1affaded-55ec-4a72-c228-351fc274423a"
      },
      "execution_count": null,
      "outputs": [
        {
          "output_type": "display_data",
          "data": {
            "text/plain": [
              "<Figure size 640x480 with 1 Axes>"
            ],
            "image/png": "[encoded data removed]"
          },
          "metadata": {}
        }
      ]
    },
    {
      "cell_type": "markdown",
      "metadata": {
        "id": "0WtvyYC88ymN"
      },
      "source": [
        "5. (Optional) Project Extensions"
      ]
    },
    {
      "cell_type": "code",
      "execution_count": null,
      "metadata": {
        "id": "oPrG8XfB2JMc"
      },
      "outputs": [],
      "source": [
        "# 5. Extensions of Project (Optional)\n",
        "# Choices:\n",
        "# Add higher number of vertices to make the graph more complex\n",
        "# Add the option 2 for output of model - output entire path instead of just length\n",
        "# Make the edge weights non-negative or even negative (adjust training data to use bellman-ford)\n",
        "# Add A* search capability with admissible heuristics into the training data"
      ]
    }
  ],
  "metadata": {
    "accelerator": "GPU",
    "colab": {
      "gpuType": "L4",
      "machine_shape": "hm",
      "provenance": [],
      "include_colab_link": true
    },
    "kernelspec": {
      "display_name": "Python 3",
      "name": "python3"
    },
    "language_info": {
      "name": "python"
    }
  },
  "nbformat": 4,
  "nbformat_minor": 0
}